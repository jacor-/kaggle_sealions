{
 "cells": [
  {
   "cell_type": "code",
   "execution_count": 4,
   "metadata": {},
   "outputs": [
    {
     "ename": "NameError",
     "evalue": "name 'get_circles' is not defined",
     "output_type": "error",
     "traceback": [
      "\u001b[0;31m---------------------------------------------------------------------------\u001b[0m",
      "\u001b[0;31mNameError\u001b[0m                                 Traceback (most recent call last)",
      "\u001b[0;32m<ipython-input-4-aa6024206adc>\u001b[0m in \u001b[0;36m<module>\u001b[0;34m()\u001b[0m\n\u001b[1;32m     12\u001b[0m \u001b[0mclass_circle_min_value\u001b[0m   \u001b[0;34m=\u001b[0m \u001b[0;34m{\u001b[0m\u001b[0;36m0\u001b[0m\u001b[0;34m:\u001b[0m\u001b[0;36m0.3\u001b[0m\u001b[0;34m,\u001b[0m\u001b[0;36m1\u001b[0m\u001b[0;34m:\u001b[0m\u001b[0;36m0.4\u001b[0m\u001b[0;34m,\u001b[0m\u001b[0;36m2\u001b[0m\u001b[0;34m:\u001b[0m\u001b[0;36m0.5\u001b[0m\u001b[0;34m,\u001b[0m\u001b[0;36m3\u001b[0m\u001b[0;34m:\u001b[0m\u001b[0;36m0.7\u001b[0m\u001b[0;34m,\u001b[0m\u001b[0;36m4\u001b[0m\u001b[0;34m:\u001b[0m\u001b[0;36m0.8\u001b[0m\u001b[0;34m}\u001b[0m\u001b[0;34m\u001b[0m\u001b[0m\n\u001b[1;32m     13\u001b[0m \u001b[0mNUM_CLASSES\u001b[0m \u001b[0;34m=\u001b[0m \u001b[0mlen\u001b[0m\u001b[0;34m(\u001b[0m\u001b[0mlist\u001b[0m\u001b[0;34m(\u001b[0m\u001b[0mclass_to_index\u001b[0m\u001b[0;34m.\u001b[0m\u001b[0mkeys\u001b[0m\u001b[0;34m(\u001b[0m\u001b[0;34m)\u001b[0m\u001b[0;34m)\u001b[0m\u001b[0;34m)\u001b[0m\u001b[0;34m\u001b[0m\u001b[0m\n\u001b[0;32m---> 14\u001b[0;31m \u001b[0mcircles\u001b[0m \u001b[0;34m=\u001b[0m \u001b[0mget_circles\u001b[0m\u001b[0;34m(\u001b[0m\u001b[0mclass_circle_min_value\u001b[0m\u001b[0;34m)\u001b[0m\u001b[0;34m\u001b[0m\u001b[0m\n\u001b[0m\u001b[1;32m     15\u001b[0m \u001b[0;34m\u001b[0m\u001b[0m\n\u001b[1;32m     16\u001b[0m \u001b[0;32mdef\u001b[0m \u001b[0mget_circles\u001b[0m\u001b[0;34m(\u001b[0m\u001b[0mclass_circle_min_value\u001b[0m\u001b[0;34m)\u001b[0m\u001b[0;34m:\u001b[0m\u001b[0;34m\u001b[0m\u001b[0m\n",
      "\u001b[0;31mNameError\u001b[0m: name 'get_circles' is not defined"
     ]
    }
   ],
   "source": [
    "# This line solves some minor problems when you do not have propery set the PYTHONPATH\n",
    "exec(compile(open(\"./fix_paths.py\", \"rb\").read(), \"./fix_paths.py\", 'exec'))\n",
    "\n",
    "import numpy as np\n",
    "import scipy.ndimage.filters as fi\n",
    "import pandas as pd\n",
    "import time\n",
    "from concurrent import futures \n",
    "from common import dataset_loaders\n",
    "\n",
    "class_to_index = {0:0,1:1,2:2,3:3,4:4}\n",
    "class_circle_min_value   = {0:0.3,1:0.4,2:0.5,3:0.7,4:0.8}\n",
    "NUM_CLASSES = len(list(class_to_index.keys()))\n",
    "\n",
    "def get_circles(class_circle_min_value):\n",
    "    def get_circle(min_value, nsig=10):\n",
    "        \"\"\"Returns a 2D Gaussian kernel array normalized to the maximum of the response\"\"\"\n",
    "        imp_resp = np.zeros([50,50]); \n",
    "        imp_resp[int(imp_resp.shape[0]/2),int(imp_resp.shape[1]/2)] = 1 ; \n",
    "        z = fi.gaussian_filter(imp_resp, nsig)\n",
    "        z /= z.max()\n",
    "        return z >= min_value\n",
    "    return np.array([get_circle(class_circle_min_value[i]) for i in range(len(class_circle_min_value))], dtype='float32')\n",
    "\n",
    "def get_labels_delta_mask(img, label):\n",
    "    rec_im = np.zeros([img.shape[0], img.shape[1], NUM_CLASSES+1])\n",
    "    for i in labels.index.values:\n",
    "        row = labels.ix[i]\n",
    "        if  row.x-int(circles.shape[1]/2) >= 0 and row.x+int(circles.shape[1]/2) < img.shape[0] and \\\n",
    "            row.y-int(circles.shape[1]/2) >= 0 and row.y+int(circles.shape[2]/2) < img.shape[1]:        \n",
    "            rec_im[row.x-int(circles.shape[1]/2):row.x+int(circles.shape[2]/2),\n",
    "                   row.y-int(circles.shape[1]/2):row.y+int(circles.shape[2]/2),\n",
    "                   class_to_index[row['class']]] += circles[row['class'],:,:]\n",
    "            \n",
    "    rec_im = (rec_im >= 1).astype(float32)\n",
    "    rec_im[:,:,-1] = 1-rec_im.max(axis=2)\n",
    "    return rec_im.argmax(axis=2).astype(float32)\n",
    "\n"
   ]
  },
  {
   "cell_type": "code",
   "execution_count": 6,
   "metadata": {},
   "outputs": [
    {
     "data": {
      "text/plain": [
       "1.0"
      ]
     },
     "execution_count": 6,
     "metadata": {},
     "output_type": "execute_result"
    }
   ],
   "source": [
    "img = dataset_loaders.load_image(dataset_loaders.get_casenames()[0])\n",
    "img.max()"
   ]
  },
  {
   "cell_type": "code",
   "execution_count": null,
   "metadata": {
    "collapsed": true
   },
   "outputs": [],
   "source": []
  },
  {
   "cell_type": "code",
   "execution_count": null,
   "metadata": {
    "collapsed": true
   },
   "outputs": [],
   "source": [
    "casename = dataset_loaders.get_casenames()[1]\n",
    "img = dataset_loaders.load_image(casename)\n",
    "df = dataset_loaders.groundlabels_dataframe()\n",
    "labels = df[df['image'] == int(casename)]\n",
    "lab_dens = get_labels_delta_mask(img, labels)\n",
    "\n",
    "from pylab import *\n",
    "%pylab inline\n",
    "figure(figsize(20,20))\n",
    "\n",
    "for i in range(5):\n",
    "    labs_plot = np.copy(lab_dens[1000:1500,3000:3500])\n",
    "    labs_plot[labs_plot != i] = np.nan\n",
    "    subplot(321+i)\n",
    "    imshow(img[1000:1500,3000:3500,:])\n",
    "    imshow(labs_plot, alpha = 0.3)\n"
   ]
  },
  {
   "cell_type": "code",
   "execution_count": null,
   "metadata": {
    "collapsed": true
   },
   "outputs": [],
   "source": []
  }
 ],
 "metadata": {
  "kernelspec": {
   "display_name": "Virtulenv_Python_3_kgsealions",
   "language": "python",
   "name": "virtulenv_python_3_kgsealions"
  },
  "language_info": {
   "codemirror_mode": {
    "name": "ipython",
    "version": 3
   },
   "file_extension": ".py",
   "mimetype": "text/x-python",
   "name": "python",
   "nbconvert_exporter": "python",
   "pygments_lexer": "ipython3",
   "version": "3.6.1"
  }
 },
 "nbformat": 4,
 "nbformat_minor": 2
}
