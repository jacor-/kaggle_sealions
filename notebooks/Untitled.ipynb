{
 "cells": [
  {
   "cell_type": "code",
   "execution_count": 1,
   "metadata": {
    "collapsed": true
   },
   "outputs": [],
   "source": [
    "exec(compile(open(\"fix_paths.py\", \"rb\").read(), \"fix_paths.py\", 'exec'))  "
   ]
  },
  {
   "cell_type": "code",
   "execution_count": 2,
   "metadata": {
    "collapsed": true
   },
   "outputs": [],
   "source": [
    "from common import dataset_loaders"
   ]
  },
  {
   "cell_type": "code",
   "execution_count": 3,
   "metadata": {
    "collapsed": true
   },
   "outputs": [],
   "source": [
    "map_category = {0:'sealion', 1:'sealion', 2:'sealion', 3:'sealion', 4:'sealion'}\n",
    "\n",
    "original_labels = dataset_loaders.groundlabels_dataframe()\n",
    "now_labels = dataset_loaders.map_labels(original_labels, map_category)\n"
   ]
  },
  {
   "cell_type": "code",
   "execution_count": 4,
   "metadata": {
    "collapsed": true
   },
   "outputs": [],
   "source": [
    "train_case = dataset_loaders.get_casenames()\n",
    "casename = train_case[0]\n",
    "data = dataset_loaders.load_image(casename)"
   ]
  },
  {
   "cell_type": "code",
   "execution_count": null,
   "metadata": {
    "scrolled": false
   },
   "outputs": [
    {
     "name": "stdout",
     "output_type": "stream",
     "text": [
      "Populating the interactive namespace from numpy and matplotlib\n"
     ]
    },
    {
     "name": "stderr",
     "output_type": "stream",
     "text": [
      "/home/jose/tech/anaconda3/envs/kgsealions/lib/python3.6/site-packages/IPython/core/magics/pylab.py:161: UserWarning: pylab import has clobbered these variables: ['power', 'linalg', 'fft', 'random', 'info']\n",
      "`%matplotlib` prevents importing * from pylab and numpy\n",
      "  \"\\n`%matplotlib` prevents importing * from pylab and numpy\"\n"
     ]
    },
    {
     "name": "stdout",
     "output_type": "stream",
     "text": [
      "(150, 3, 80, 80) (150, 1) 138\n",
      "(150, 3, 80, 80) (150, 1) 144\n",
      "(150, 3, 80, 80) (150, 1) 143\n",
      "(150, 3, 80, 80) (150, 1) 141\n",
      "(150, 3, 80, 80) (150, 1) 142\n",
      "(150, 3, 80, 80) (150, 1) 139\n",
      "(150, 3, 80, 80) (150, 1) 138\n",
      "(150, 3, 80, 80) (150, 1) 142\n",
      "(150, 3, 80, 80) (150, 1) 144\n",
      "(150, 3, 80, 80) (150, 1) 141\n",
      "(150, 3, 80, 80) (150, 1) 146\n",
      "(150, 3, 80, 80) (150, 1) 140\n",
      "(150, 3, 80, 80) (150, 1) 140\n",
      "(150, 3, 80, 80) (150, 1) 141\n",
      "(150, 3, 80, 80) (150, 1) 145\n",
      "(150, 3, 80, 80) (150, 1) 138\n",
      "(150, 3, 80, 80) (150, 1) 146\n",
      "(150, 3, 80, 80) (150, 1) 145\n",
      "(150, 3, 80, 80) (150, 1) 140\n",
      "(150, 3, 80, 80) (150, 1) 137\n",
      "(150, 3, 80, 80) (150, 1) 141\n",
      "(150, 3, 80, 80) (150, 1) 140\n",
      "(150, 3, 80, 80) (150, 1) 139\n",
      "(150, 3, 80, 80) (150, 1) 138\n",
      "(150, 3, 80, 80) (150, 1) 140\n",
      "(150, 3, 80, 80) (150, 1) 144\n",
      "(150, 3, 80, 80) (150, 1) 142\n",
      "(150, 3, 80, 80) (150, 1) 145\n",
      "(150, 3, 80, 80) (150, 1) 142\n",
      "(150, 3, 80, 80) (150, 1) 144\n",
      "(150, 3, 80, 80) (150, 1) 144\n",
      "(150, 3, 80, 80) (150, 1) 144\n",
      "(150, 3, 80, 80) (150, 1) 143\n",
      "(150, 3, 80, 80) (150, 1) 144\n",
      "(150, 3, 80, 80) (150, 1) 146\n",
      "(150, 3, 80, 80) (150, 1) 145\n",
      "(150, 3, 80, 80) (150, 1) 140\n",
      "(150, 3, 80, 80) (150, 1) 144\n",
      "(150, 3, 80, 80) (150, 1) 142\n",
      "(150, 3, 80, 80) (150, 1) 144\n",
      "(150, 3, 80, 80) (150, 1) 144\n",
      "(150, 3, 80, 80) (150, 1) 144\n",
      "(150, 3, 80, 80) (150, 1) 144\n",
      "(150, 3, 80, 80) (150, 1) 144\n",
      "(150, 3, 80, 80) (150, 1) 144\n",
      "(150, 3, 80, 80) (150, 1) 144\n",
      "(150, 3, 80, 80) (150, 1) 148\n",
      "(150, 3, 80, 80) (150, 1) 146\n",
      "(150, 3, 80, 80) (150, 1) 141\n",
      "(150, 3, 80, 80) (150, 1) 143\n",
      "(150, 3, 80, 80) (150, 1) 144\n",
      "(150, 3, 80, 80) (150, 1) 146\n",
      "(150, 3, 80, 80) (150, 1) 149\n",
      "(150, 3, 80, 80) (150, 1) 144\n",
      "(150, 3, 80, 80) (150, 1) 144\n",
      "(150, 3, 80, 80) (150, 1) 143\n",
      "(150, 3, 80, 80) (150, 1) 144\n",
      "(150, 3, 80, 80) (150, 1) 144\n",
      "(150, 3, 80, 80) (150, 1) 140\n",
      "(150, 3, 80, 80) (150, 1) 146\n",
      "(150, 3, 80, 80) (150, 1) 143\n",
      "(150, 3, 80, 80) (150, 1) 144\n",
      "(150, 3, 80, 80) (150, 1) 142\n",
      "(150, 3, 80, 80) (150, 1) 144\n",
      "(150, 3, 80, 80) (150, 1) 144\n",
      "(150, 3, 80, 80) (150, 1) 149\n",
      "(150, 3, 80, 80) (150, 1) 142\n",
      "(150, 3, 80, 80) (150, 1) 146\n",
      "(150, 3, 80, 80) (150, 1) 144\n",
      "(150, 3, 80, 80) (150, 1) 145\n",
      "(150, 3, 80, 80) (150, 1) 139\n",
      "(150, 3, 80, 80) (150, 1) 143\n",
      "(150, 3, 80, 80) (150, 1) 147\n",
      "(150, 3, 80, 80) (150, 1) 140\n",
      "(150, 3, 80, 80) (150, 1) 148\n",
      "(150, 3, 80, 80) (150, 1) 147\n",
      "(150, 3, 80, 80) (150, 1) 138\n",
      "(150, 3, 80, 80) (150, 1) 143\n",
      "(150, 3, 80, 80) (150, 1) 139\n",
      "(150, 3, 80, 80) (150, 1) 141\n",
      "(150, 3, 80, 80) (150, 1) 142\n",
      "(150, 3, 80, 80) (150, 1) 144\n",
      "(150, 3, 80, 80) (150, 1) 148\n",
      "(150, 3, 80, 80) (150, 1) 144\n"
     ]
    }
   ],
   "source": [
    "from pylab import *\n",
    "%pylab inline\n",
    "pylab.rcParams['figure.figsize'] = (15, 15)"
   ]
  },
  {
   "cell_type": "code",
   "execution_count": null,
   "metadata": {
    "collapsed": true
   },
   "outputs": [],
   "source": []
  }
 ],
 "metadata": {
  "kernelspec": {
   "display_name": "Virtulenv_Python_3_kgsealions",
   "language": "python",
   "name": "virtulenv_python_3_kgsealions"
  },
  "language_info": {
   "codemirror_mode": {
    "name": "ipython",
    "version": 3
   },
   "file_extension": ".py",
   "mimetype": "text/x-python",
   "name": "python",
   "nbconvert_exporter": "python",
   "pygments_lexer": "ipython3",
   "version": "3.6.1"
  }
 },
 "nbformat": 4,
 "nbformat_minor": 2
}
